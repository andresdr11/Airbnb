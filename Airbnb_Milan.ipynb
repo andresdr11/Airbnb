{
 "cells": [
  {
   "cell_type": "markdown",
   "id": "d283d901",
   "metadata": {},
   "source": [
    "## Realizar los siguientes procesos\n",
    "\n",
    "\n",
    "• Cargamos el archivo “Airbnb_Milan.csv” como dataframe.\n",
    "\n",
    "• Creamos un nuevo dataframe que contenga únicamente las siguientes columnas:\n",
    "\n",
    "“host_is_superhost”\n",
    " “host_identity_verified”\n",
    "“bathrooms”\n",
    " “bedrooms”\n",
    "“daily_price”\n",
    "“security_deposit”\n",
    "“minimum_nights”\n",
    " “number_of_reviews”\n",
    " “review_scores_rating”\n",
    "\n",
    "•  Cambiamos los factores de la variable “host_is_superhost” de 0, 1 a: “SI” y, “NO”.\n",
    "\n",
    "•  Cambiamos los factores de la variable “host_identity_verified” de 0, 1 a: “VERIFICA” y “NO VERIFICA”.\n",
    "\n",
    "•  Mostraremos un resumen estadístico de los datos.\n",
    "\n",
    "• Filtraremos el dataset por apartamentos cuyo mínimo de noches sea igual o menor que siete.\n",
    "\n",
    "•  ¿Cuál es el precio medio por día de una habitación en función de si el anfitrión tiene verificado o no su perfil?\n",
    "\n",
    "•  Quién tiene más número de reseñas, ¿un super host o no super host?\n",
    "\n",
    "•  Sobre la estadística anterior ¿quién tiene la puntuación media más alta?\n",
    "\n",
    "•  Crear un vector categórico llamado “CATEGORÍA”, en función de que, si para la puntuación de las reseñas tiene de 0 a 49, sea “NO ACONSEJABLE”; de 50 a 75 sea “ESTÁNDAR”; y de 76 a 100 sea “TOP”.\n",
    "\n",
    "•  Mostrar las frecuencias de la variable CATEGORÍA.\n",
    "\n",
    "•  Obtener el histograma del precio por día.\n",
    "\n",
    "•  Estudiar la relación entre los dormitorios y baños de forma gráfica.\n",
    "\n",
    "•  Mostraremos un histograma del número de reseñas en función de si es un usuario verificado o no.\n",
    "\n",
    "• Mostraremos un histograma por cada valor de “CATEGORÍA” en el que se enseñe la cuantía del depósito de seguridad en función de si el anfitrión es super host o no."
   ]
  },
  {
   "cell_type": "code",
   "execution_count": null,
   "id": "d5c043eb",
   "metadata": {},
   "outputs": [],
   "source": []
  },
  {
   "cell_type": "markdown",
   "id": "bb3375bb",
   "metadata": {},
   "source": [
    "Cargamos el archivo “Airbnb_Milan.csv” como dataframe."
   ]
  },
  {
   "cell_type": "code",
   "execution_count": 33,
   "id": "21be99ae",
   "metadata": {},
   "outputs": [
    {
     "data": {
      "text/html": [
       "<div>\n",
       "<style scoped>\n",
       "    .dataframe tbody tr th:only-of-type {\n",
       "        vertical-align: middle;\n",
       "    }\n",
       "\n",
       "    .dataframe tbody tr th {\n",
       "        vertical-align: top;\n",
       "    }\n",
       "\n",
       "    .dataframe thead th {\n",
       "        text-align: right;\n",
       "    }\n",
       "</style>\n",
       "<table border=\"1\" class=\"dataframe\">\n",
       "  <thead>\n",
       "    <tr style=\"text-align: right;\">\n",
       "      <th></th>\n",
       "      <th>Unnamed: 0</th>\n",
       "      <th>id</th>\n",
       "      <th>host_id</th>\n",
       "      <th>host_location</th>\n",
       "      <th>host_response_time</th>\n",
       "      <th>host_response_rate</th>\n",
       "      <th>host_is_superhost</th>\n",
       "      <th>host_total_listings_count</th>\n",
       "      <th>host_has_profile_pic</th>\n",
       "      <th>host_identity_verified</th>\n",
       "      <th>...</th>\n",
       "      <th>Iron</th>\n",
       "      <th>Host_greets_you</th>\n",
       "      <th>Paid_parking_on_premises</th>\n",
       "      <th>Luggage_dropoff_allowed</th>\n",
       "      <th>Long_term_stays_allowed</th>\n",
       "      <th>Doorman</th>\n",
       "      <th>Pets_allowed</th>\n",
       "      <th>Smoking_allowed</th>\n",
       "      <th>Suitable_for_events</th>\n",
       "      <th>24_hour_check_in</th>\n",
       "    </tr>\n",
       "  </thead>\n",
       "  <tbody>\n",
       "    <tr>\n",
       "      <th>0</th>\n",
       "      <td>1</td>\n",
       "      <td>73892</td>\n",
       "      <td>387110</td>\n",
       "      <td>1</td>\n",
       "      <td>1</td>\n",
       "      <td>57</td>\n",
       "      <td>0</td>\n",
       "      <td>3</td>\n",
       "      <td>1</td>\n",
       "      <td>1</td>\n",
       "      <td>...</td>\n",
       "      <td>1</td>\n",
       "      <td>0</td>\n",
       "      <td>0</td>\n",
       "      <td>0</td>\n",
       "      <td>0</td>\n",
       "      <td>0</td>\n",
       "      <td>0</td>\n",
       "      <td>0</td>\n",
       "      <td>1</td>\n",
       "      <td>0</td>\n",
       "    </tr>\n",
       "    <tr>\n",
       "      <th>1</th>\n",
       "      <td>2</td>\n",
       "      <td>74169</td>\n",
       "      <td>268127</td>\n",
       "      <td>1</td>\n",
       "      <td>1</td>\n",
       "      <td>57</td>\n",
       "      <td>0</td>\n",
       "      <td>1</td>\n",
       "      <td>1</td>\n",
       "      <td>0</td>\n",
       "      <td>...</td>\n",
       "      <td>1</td>\n",
       "      <td>0</td>\n",
       "      <td>0</td>\n",
       "      <td>0</td>\n",
       "      <td>0</td>\n",
       "      <td>0</td>\n",
       "      <td>0</td>\n",
       "      <td>0</td>\n",
       "      <td>0</td>\n",
       "      <td>0</td>\n",
       "    </tr>\n",
       "    <tr>\n",
       "      <th>2</th>\n",
       "      <td>3</td>\n",
       "      <td>77958</td>\n",
       "      <td>387110</td>\n",
       "      <td>1</td>\n",
       "      <td>1</td>\n",
       "      <td>57</td>\n",
       "      <td>0</td>\n",
       "      <td>3</td>\n",
       "      <td>1</td>\n",
       "      <td>1</td>\n",
       "      <td>...</td>\n",
       "      <td>1</td>\n",
       "      <td>0</td>\n",
       "      <td>0</td>\n",
       "      <td>0</td>\n",
       "      <td>0</td>\n",
       "      <td>0</td>\n",
       "      <td>0</td>\n",
       "      <td>0</td>\n",
       "      <td>1</td>\n",
       "      <td>0</td>\n",
       "    </tr>\n",
       "  </tbody>\n",
       "</table>\n",
       "<p>3 rows × 61 columns</p>\n",
       "</div>"
      ],
      "text/plain": [
       "   Unnamed: 0     id  host_id  host_location  host_response_time  \\\n",
       "0           1  73892   387110              1                   1   \n",
       "1           2  74169   268127              1                   1   \n",
       "2           3  77958   387110              1                   1   \n",
       "\n",
       "   host_response_rate  host_is_superhost  host_total_listings_count  \\\n",
       "0                  57                  0                          3   \n",
       "1                  57                  0                          1   \n",
       "2                  57                  0                          3   \n",
       "\n",
       "   host_has_profile_pic  host_identity_verified  ...  Iron  Host_greets_you  \\\n",
       "0                     1                       1  ...     1                0   \n",
       "1                     1                       0  ...     1                0   \n",
       "2                     1                       1  ...     1                0   \n",
       "\n",
       "   Paid_parking_on_premises  Luggage_dropoff_allowed Long_term_stays_allowed  \\\n",
       "0                         0                        0                       0   \n",
       "1                         0                        0                       0   \n",
       "2                         0                        0                       0   \n",
       "\n",
       "   Doorman  Pets_allowed  Smoking_allowed  Suitable_for_events  \\\n",
       "0        0             0                0                    1   \n",
       "1        0             0                0                    0   \n",
       "2        0             0                0                    1   \n",
       "\n",
       "   24_hour_check_in  \n",
       "0                 0  \n",
       "1                 0  \n",
       "2                 0  \n",
       "\n",
       "[3 rows x 61 columns]"
      ]
     },
     "execution_count": 33,
     "metadata": {},
     "output_type": "execute_result"
    }
   ],
   "source": [
    "import pandas as pd\n",
    "df = pd.read_csv(r'C:\\Users\\andre\\Downloads\\archive (33)\\Airbnb_Milan.csv')\n",
    "df.head(3)"
   ]
  },
  {
   "cell_type": "markdown",
   "id": "0601fd37",
   "metadata": {},
   "source": [
    "Creamos un nuevo dataframe que contenga únicamente las siguientes columnas:\n",
    "\n",
    "“host_is_superhost” “host_identity_verified” “bathrooms” “bedrooms” “daily_price” “security_deposit” “minimum_nights” “number_of_reviews” “review_scores_rating”"
   ]
  },
  {
   "cell_type": "code",
   "execution_count": 55,
   "id": "c150c351",
   "metadata": {},
   "outputs": [
    {
     "data": {
      "text/html": [
       "<div>\n",
       "<style scoped>\n",
       "    .dataframe tbody tr th:only-of-type {\n",
       "        vertical-align: middle;\n",
       "    }\n",
       "\n",
       "    .dataframe tbody tr th {\n",
       "        vertical-align: top;\n",
       "    }\n",
       "\n",
       "    .dataframe thead th {\n",
       "        text-align: right;\n",
       "    }\n",
       "</style>\n",
       "<table border=\"1\" class=\"dataframe\">\n",
       "  <thead>\n",
       "    <tr style=\"text-align: right;\">\n",
       "      <th></th>\n",
       "      <th>host_is_superhost</th>\n",
       "      <th>host_identity_verified</th>\n",
       "      <th>bathrooms</th>\n",
       "      <th>bedrooms</th>\n",
       "      <th>daily_price</th>\n",
       "      <th>security_deposit</th>\n",
       "      <th>minimum_nights</th>\n",
       "      <th>number_of_reviews</th>\n",
       "      <th>review_scores_rating</th>\n",
       "    </tr>\n",
       "  </thead>\n",
       "  <tbody>\n",
       "    <tr>\n",
       "      <th>0</th>\n",
       "      <td>0</td>\n",
       "      <td>1</td>\n",
       "      <td>3</td>\n",
       "      <td>1</td>\n",
       "      <td>94</td>\n",
       "      <td>1</td>\n",
       "      <td>2</td>\n",
       "      <td>84</td>\n",
       "      <td>94</td>\n",
       "    </tr>\n",
       "    <tr>\n",
       "      <th>1</th>\n",
       "      <td>0</td>\n",
       "      <td>0</td>\n",
       "      <td>3</td>\n",
       "      <td>1</td>\n",
       "      <td>125</td>\n",
       "      <td>31</td>\n",
       "      <td>2</td>\n",
       "      <td>3</td>\n",
       "      <td>100</td>\n",
       "    </tr>\n",
       "    <tr>\n",
       "      <th>2</th>\n",
       "      <td>0</td>\n",
       "      <td>1</td>\n",
       "      <td>3</td>\n",
       "      <td>1</td>\n",
       "      <td>100</td>\n",
       "      <td>1</td>\n",
       "      <td>2</td>\n",
       "      <td>70</td>\n",
       "      <td>97</td>\n",
       "    </tr>\n",
       "  </tbody>\n",
       "</table>\n",
       "</div>"
      ],
      "text/plain": [
       "   host_is_superhost  host_identity_verified  bathrooms  bedrooms  \\\n",
       "0                  0                       1          3         1   \n",
       "1                  0                       0          3         1   \n",
       "2                  0                       1          3         1   \n",
       "\n",
       "   daily_price  security_deposit  minimum_nights  number_of_reviews  \\\n",
       "0           94                 1               2                 84   \n",
       "1          125                31               2                  3   \n",
       "2          100                 1               2                 70   \n",
       "\n",
       "   review_scores_rating  \n",
       "0                    94  \n",
       "1                   100  \n",
       "2                    97  "
      ]
     },
     "execution_count": 55,
     "metadata": {},
     "output_type": "execute_result"
    }
   ],
   "source": [
    "df_ = df[['host_is_superhost', 'host_identity_verified', 'bathrooms', 'bedrooms', 'daily_price', 'security_deposit', 'minimum_nights', 'number_of_reviews', 'review_scores_rating']]\n",
    "df_.head(3)"
   ]
  },
  {
   "cell_type": "markdown",
   "id": "cfade5ac",
   "metadata": {},
   "source": [
    "Cambiamos los factores de la variable “host_is_superhost” de 0, 1 a: “SI” y, “NO”. "
   ]
  },
  {
   "cell_type": "code",
   "execution_count": 56,
   "id": "b8741638",
   "metadata": {},
   "outputs": [
    {
     "data": {
      "text/html": [
       "<div>\n",
       "<style scoped>\n",
       "    .dataframe tbody tr th:only-of-type {\n",
       "        vertical-align: middle;\n",
       "    }\n",
       "\n",
       "    .dataframe tbody tr th {\n",
       "        vertical-align: top;\n",
       "    }\n",
       "\n",
       "    .dataframe thead th {\n",
       "        text-align: right;\n",
       "    }\n",
       "</style>\n",
       "<table border=\"1\" class=\"dataframe\">\n",
       "  <thead>\n",
       "    <tr style=\"text-align: right;\">\n",
       "      <th></th>\n",
       "      <th>host_is_superhost</th>\n",
       "      <th>host_identity_verified</th>\n",
       "      <th>bathrooms</th>\n",
       "      <th>bedrooms</th>\n",
       "      <th>daily_price</th>\n",
       "      <th>security_deposit</th>\n",
       "      <th>minimum_nights</th>\n",
       "      <th>number_of_reviews</th>\n",
       "      <th>review_scores_rating</th>\n",
       "    </tr>\n",
       "  </thead>\n",
       "  <tbody>\n",
       "    <tr>\n",
       "      <th>0</th>\n",
       "      <td>NO</td>\n",
       "      <td>1</td>\n",
       "      <td>3</td>\n",
       "      <td>1</td>\n",
       "      <td>94</td>\n",
       "      <td>1</td>\n",
       "      <td>2</td>\n",
       "      <td>84</td>\n",
       "      <td>94</td>\n",
       "    </tr>\n",
       "    <tr>\n",
       "      <th>1</th>\n",
       "      <td>NO</td>\n",
       "      <td>0</td>\n",
       "      <td>3</td>\n",
       "      <td>1</td>\n",
       "      <td>125</td>\n",
       "      <td>31</td>\n",
       "      <td>2</td>\n",
       "      <td>3</td>\n",
       "      <td>100</td>\n",
       "    </tr>\n",
       "    <tr>\n",
       "      <th>2</th>\n",
       "      <td>NO</td>\n",
       "      <td>1</td>\n",
       "      <td>3</td>\n",
       "      <td>1</td>\n",
       "      <td>100</td>\n",
       "      <td>1</td>\n",
       "      <td>2</td>\n",
       "      <td>70</td>\n",
       "      <td>97</td>\n",
       "    </tr>\n",
       "  </tbody>\n",
       "</table>\n",
       "</div>"
      ],
      "text/plain": [
       "  host_is_superhost  host_identity_verified  bathrooms  bedrooms  daily_price  \\\n",
       "0                NO                       1          3         1           94   \n",
       "1                NO                       0          3         1          125   \n",
       "2                NO                       1          3         1          100   \n",
       "\n",
       "   security_deposit  minimum_nights  number_of_reviews  review_scores_rating  \n",
       "0                 1               2                 84                    94  \n",
       "1                31               2                  3                   100  \n",
       "2                 1               2                 70                    97  "
      ]
     },
     "execution_count": 56,
     "metadata": {},
     "output_type": "execute_result"
    }
   ],
   "source": [
    "df_.loc[:,'host_is_superhost'] = df_['host_is_superhost'].replace({0: 'NO', 1: 'SI'})\n",
    "df_.head(3)"
   ]
  },
  {
   "cell_type": "markdown",
   "id": "4ce04658",
   "metadata": {},
   "source": [
    "Cambiamos los factores de la variable “host_identity_verified” de 0, 1 a: “VERIFICA” y “NO VERIFICA”."
   ]
  },
  {
   "cell_type": "code",
   "execution_count": 57,
   "id": "40362140",
   "metadata": {},
   "outputs": [
    {
     "data": {
      "text/html": [
       "<div>\n",
       "<style scoped>\n",
       "    .dataframe tbody tr th:only-of-type {\n",
       "        vertical-align: middle;\n",
       "    }\n",
       "\n",
       "    .dataframe tbody tr th {\n",
       "        vertical-align: top;\n",
       "    }\n",
       "\n",
       "    .dataframe thead th {\n",
       "        text-align: right;\n",
       "    }\n",
       "</style>\n",
       "<table border=\"1\" class=\"dataframe\">\n",
       "  <thead>\n",
       "    <tr style=\"text-align: right;\">\n",
       "      <th></th>\n",
       "      <th>host_is_superhost</th>\n",
       "      <th>host_identity_verified</th>\n",
       "      <th>bathrooms</th>\n",
       "      <th>bedrooms</th>\n",
       "      <th>daily_price</th>\n",
       "      <th>security_deposit</th>\n",
       "      <th>minimum_nights</th>\n",
       "      <th>number_of_reviews</th>\n",
       "      <th>review_scores_rating</th>\n",
       "    </tr>\n",
       "  </thead>\n",
       "  <tbody>\n",
       "    <tr>\n",
       "      <th>0</th>\n",
       "      <td>NO</td>\n",
       "      <td>NO VERIFICA</td>\n",
       "      <td>3</td>\n",
       "      <td>1</td>\n",
       "      <td>94</td>\n",
       "      <td>1</td>\n",
       "      <td>2</td>\n",
       "      <td>84</td>\n",
       "      <td>94</td>\n",
       "    </tr>\n",
       "    <tr>\n",
       "      <th>1</th>\n",
       "      <td>NO</td>\n",
       "      <td>VERIFICA</td>\n",
       "      <td>3</td>\n",
       "      <td>1</td>\n",
       "      <td>125</td>\n",
       "      <td>31</td>\n",
       "      <td>2</td>\n",
       "      <td>3</td>\n",
       "      <td>100</td>\n",
       "    </tr>\n",
       "    <tr>\n",
       "      <th>2</th>\n",
       "      <td>NO</td>\n",
       "      <td>NO VERIFICA</td>\n",
       "      <td>3</td>\n",
       "      <td>1</td>\n",
       "      <td>100</td>\n",
       "      <td>1</td>\n",
       "      <td>2</td>\n",
       "      <td>70</td>\n",
       "      <td>97</td>\n",
       "    </tr>\n",
       "  </tbody>\n",
       "</table>\n",
       "</div>"
      ],
      "text/plain": [
       "  host_is_superhost host_identity_verified  bathrooms  bedrooms  daily_price  \\\n",
       "0                NO            NO VERIFICA          3         1           94   \n",
       "1                NO               VERIFICA          3         1          125   \n",
       "2                NO            NO VERIFICA          3         1          100   \n",
       "\n",
       "   security_deposit  minimum_nights  number_of_reviews  review_scores_rating  \n",
       "0                 1               2                 84                    94  \n",
       "1                31               2                  3                   100  \n",
       "2                 1               2                 70                    97  "
      ]
     },
     "execution_count": 57,
     "metadata": {},
     "output_type": "execute_result"
    }
   ],
   "source": [
    "df_.loc[:, 'host_identity_verified'] = df_['host_identity_verified'].replace({0:\"VERIFICA\", 1:\"NO VERIFICA\"})\n",
    "df_.head(3)"
   ]
  },
  {
   "cell_type": "markdown",
   "id": "edc9d598",
   "metadata": {},
   "source": [
    "Mostraremos un resumen estadístico de los datos."
   ]
  },
  {
   "cell_type": "code",
   "execution_count": 58,
   "id": "e9220233",
   "metadata": {},
   "outputs": [
    {
     "data": {
      "text/html": [
       "<div>\n",
       "<style scoped>\n",
       "    .dataframe tbody tr th:only-of-type {\n",
       "        vertical-align: middle;\n",
       "    }\n",
       "\n",
       "    .dataframe tbody tr th {\n",
       "        vertical-align: top;\n",
       "    }\n",
       "\n",
       "    .dataframe thead th {\n",
       "        text-align: right;\n",
       "    }\n",
       "</style>\n",
       "<table border=\"1\" class=\"dataframe\">\n",
       "  <thead>\n",
       "    <tr style=\"text-align: right;\">\n",
       "      <th></th>\n",
       "      <th>bathrooms</th>\n",
       "      <th>bedrooms</th>\n",
       "      <th>daily_price</th>\n",
       "      <th>security_deposit</th>\n",
       "      <th>minimum_nights</th>\n",
       "      <th>number_of_reviews</th>\n",
       "      <th>review_scores_rating</th>\n",
       "    </tr>\n",
       "  </thead>\n",
       "  <tbody>\n",
       "    <tr>\n",
       "      <th>count</th>\n",
       "      <td>9322.000000</td>\n",
       "      <td>9322.000000</td>\n",
       "      <td>9322.000000</td>\n",
       "      <td>9322.000000</td>\n",
       "      <td>9322.000000</td>\n",
       "      <td>9322.000000</td>\n",
       "      <td>9322.000000</td>\n",
       "    </tr>\n",
       "    <tr>\n",
       "      <th>mean</th>\n",
       "      <td>3.356790</td>\n",
       "      <td>1.218086</td>\n",
       "      <td>103.735143</td>\n",
       "      <td>21.709504</td>\n",
       "      <td>3.205321</td>\n",
       "      <td>39.640742</td>\n",
       "      <td>93.147930</td>\n",
       "    </tr>\n",
       "    <tr>\n",
       "      <th>std</th>\n",
       "      <td>0.979969</td>\n",
       "      <td>0.731942</td>\n",
       "      <td>137.956457</td>\n",
       "      <td>32.780475</td>\n",
       "      <td>13.749608</td>\n",
       "      <td>65.597271</td>\n",
       "      <td>8.337679</td>\n",
       "    </tr>\n",
       "    <tr>\n",
       "      <th>min</th>\n",
       "      <td>1.000000</td>\n",
       "      <td>0.000000</td>\n",
       "      <td>10.000000</td>\n",
       "      <td>1.000000</td>\n",
       "      <td>1.000000</td>\n",
       "      <td>1.000000</td>\n",
       "      <td>20.000000</td>\n",
       "    </tr>\n",
       "    <tr>\n",
       "      <th>25%</th>\n",
       "      <td>3.000000</td>\n",
       "      <td>1.000000</td>\n",
       "      <td>59.000000</td>\n",
       "      <td>1.000000</td>\n",
       "      <td>1.000000</td>\n",
       "      <td>4.000000</td>\n",
       "      <td>90.000000</td>\n",
       "    </tr>\n",
       "    <tr>\n",
       "      <th>50%</th>\n",
       "      <td>3.000000</td>\n",
       "      <td>1.000000</td>\n",
       "      <td>75.000000</td>\n",
       "      <td>1.000000</td>\n",
       "      <td>2.000000</td>\n",
       "      <td>14.000000</td>\n",
       "      <td>95.000000</td>\n",
       "    </tr>\n",
       "    <tr>\n",
       "      <th>75%</th>\n",
       "      <td>3.000000</td>\n",
       "      <td>2.000000</td>\n",
       "      <td>107.000000</td>\n",
       "      <td>48.000000</td>\n",
       "      <td>2.000000</td>\n",
       "      <td>44.000000</td>\n",
       "      <td>99.000000</td>\n",
       "    </tr>\n",
       "    <tr>\n",
       "      <th>max</th>\n",
       "      <td>17.000000</td>\n",
       "      <td>10.000000</td>\n",
       "      <td>3000.000000</td>\n",
       "      <td>143.000000</td>\n",
       "      <td>365.000000</td>\n",
       "      <td>791.000000</td>\n",
       "      <td>100.000000</td>\n",
       "    </tr>\n",
       "  </tbody>\n",
       "</table>\n",
       "</div>"
      ],
      "text/plain": [
       "         bathrooms     bedrooms  daily_price  security_deposit  \\\n",
       "count  9322.000000  9322.000000  9322.000000       9322.000000   \n",
       "mean      3.356790     1.218086   103.735143         21.709504   \n",
       "std       0.979969     0.731942   137.956457         32.780475   \n",
       "min       1.000000     0.000000    10.000000          1.000000   \n",
       "25%       3.000000     1.000000    59.000000          1.000000   \n",
       "50%       3.000000     1.000000    75.000000          1.000000   \n",
       "75%       3.000000     2.000000   107.000000         48.000000   \n",
       "max      17.000000    10.000000  3000.000000        143.000000   \n",
       "\n",
       "       minimum_nights  number_of_reviews  review_scores_rating  \n",
       "count     9322.000000        9322.000000           9322.000000  \n",
       "mean         3.205321          39.640742             93.147930  \n",
       "std         13.749608          65.597271              8.337679  \n",
       "min          1.000000           1.000000             20.000000  \n",
       "25%          1.000000           4.000000             90.000000  \n",
       "50%          2.000000          14.000000             95.000000  \n",
       "75%          2.000000          44.000000             99.000000  \n",
       "max        365.000000         791.000000            100.000000  "
      ]
     },
     "execution_count": 58,
     "metadata": {},
     "output_type": "execute_result"
    }
   ],
   "source": [
    "df_.describe()"
   ]
  },
  {
   "cell_type": "markdown",
   "id": "1358e095",
   "metadata": {},
   "source": [
    "Filtraremos el dataset por apartamentos cuyo mínimo de noches sea igual o menor que siete."
   ]
  },
  {
   "cell_type": "code",
   "execution_count": 59,
   "id": "42fd7577",
   "metadata": {},
   "outputs": [
    {
     "data": {
      "text/html": [
       "<div>\n",
       "<style scoped>\n",
       "    .dataframe tbody tr th:only-of-type {\n",
       "        vertical-align: middle;\n",
       "    }\n",
       "\n",
       "    .dataframe tbody tr th {\n",
       "        vertical-align: top;\n",
       "    }\n",
       "\n",
       "    .dataframe thead th {\n",
       "        text-align: right;\n",
       "    }\n",
       "</style>\n",
       "<table border=\"1\" class=\"dataframe\">\n",
       "  <thead>\n",
       "    <tr style=\"text-align: right;\">\n",
       "      <th></th>\n",
       "      <th>host_is_superhost</th>\n",
       "      <th>host_identity_verified</th>\n",
       "      <th>bathrooms</th>\n",
       "      <th>bedrooms</th>\n",
       "      <th>daily_price</th>\n",
       "      <th>security_deposit</th>\n",
       "      <th>minimum_nights</th>\n",
       "      <th>number_of_reviews</th>\n",
       "      <th>review_scores_rating</th>\n",
       "    </tr>\n",
       "  </thead>\n",
       "  <tbody>\n",
       "    <tr>\n",
       "      <th>0</th>\n",
       "      <td>NO</td>\n",
       "      <td>NO VERIFICA</td>\n",
       "      <td>3</td>\n",
       "      <td>1</td>\n",
       "      <td>94</td>\n",
       "      <td>1</td>\n",
       "      <td>2</td>\n",
       "      <td>84</td>\n",
       "      <td>94</td>\n",
       "    </tr>\n",
       "    <tr>\n",
       "      <th>1</th>\n",
       "      <td>NO</td>\n",
       "      <td>VERIFICA</td>\n",
       "      <td>3</td>\n",
       "      <td>1</td>\n",
       "      <td>125</td>\n",
       "      <td>31</td>\n",
       "      <td>2</td>\n",
       "      <td>3</td>\n",
       "      <td>100</td>\n",
       "    </tr>\n",
       "    <tr>\n",
       "      <th>2</th>\n",
       "      <td>NO</td>\n",
       "      <td>NO VERIFICA</td>\n",
       "      <td>3</td>\n",
       "      <td>1</td>\n",
       "      <td>100</td>\n",
       "      <td>1</td>\n",
       "      <td>2</td>\n",
       "      <td>70</td>\n",
       "      <td>97</td>\n",
       "    </tr>\n",
       "  </tbody>\n",
       "</table>\n",
       "</div>"
      ],
      "text/plain": [
       "  host_is_superhost host_identity_verified  bathrooms  bedrooms  daily_price  \\\n",
       "0                NO            NO VERIFICA          3         1           94   \n",
       "1                NO               VERIFICA          3         1          125   \n",
       "2                NO            NO VERIFICA          3         1          100   \n",
       "\n",
       "   security_deposit  minimum_nights  number_of_reviews  review_scores_rating  \n",
       "0                 1               2                 84                    94  \n",
       "1                31               2                  3                   100  \n",
       "2                 1               2                 70                    97  "
      ]
     },
     "execution_count": 59,
     "metadata": {},
     "output_type": "execute_result"
    }
   ],
   "source": [
    "df_filtered = df_[df_['minimum_nights']<=7]\n",
    "df_filtered.head(3)"
   ]
  },
  {
   "cell_type": "markdown",
   "id": "b7c67832",
   "metadata": {},
   "source": [
    "¿Cuál es el precio medio por día de una habitación en función de si el anfitrión tiene verificado o no su perfil?"
   ]
  },
  {
   "cell_type": "code",
   "execution_count": 60,
   "id": "f704ee41",
   "metadata": {},
   "outputs": [
    {
     "data": {
      "text/plain": [
       "host_identity_verified\n",
       "NO VERIFICA    103.764677\n",
       "VERIFICA       103.712750\n",
       "Name: daily_price, dtype: float64"
      ]
     },
     "execution_count": 60,
     "metadata": {},
     "output_type": "execute_result"
    }
   ],
   "source": [
    "dfverified = df_.groupby('host_identity_verified')['daily_price'].mean()\n",
    "dfverified"
   ]
  },
  {
   "cell_type": "markdown",
   "id": "e1092a40",
   "metadata": {},
   "source": [
    "Quién tiene más número de reseñas, ¿un super host o no super host?"
   ]
  },
  {
   "cell_type": "code",
   "execution_count": 61,
   "id": "36cdd489",
   "metadata": {},
   "outputs": [
    {
     "data": {
      "text/plain": [
       "host_is_superhost\n",
       "NO    204655\n",
       "SI    164876\n",
       "Name: number_of_reviews, dtype: int64"
      ]
     },
     "execution_count": 61,
     "metadata": {},
     "output_type": "execute_result"
    }
   ],
   "source": [
    "df_reseñas = df_.groupby('host_is_superhost')['number_of_reviews'].sum()\n",
    "df_reseñas"
   ]
  },
  {
   "cell_type": "markdown",
   "id": "bcb59fd0",
   "metadata": {},
   "source": [
    "Sobre la estadística anterior ¿quién tiene la puntuación media más alta?"
   ]
  },
  {
   "cell_type": "code",
   "execution_count": 62,
   "id": "53835233",
   "metadata": {},
   "outputs": [
    {
     "data": {
      "text/plain": [
       "host_is_superhost\n",
       "NO    91.613818\n",
       "SI    96.924248\n",
       "Name: review_scores_rating, dtype: float64"
      ]
     },
     "execution_count": 62,
     "metadata": {},
     "output_type": "execute_result"
    }
   ],
   "source": [
    "df_puntuacion = df_.groupby('host_is_superhost')['review_scores_rating'].mean()\n",
    "df_puntuacion"
   ]
  },
  {
   "cell_type": "markdown",
   "id": "54d507e0",
   "metadata": {},
   "source": [
    "Crear una columna categórica llamada “CATEGORÍA”, en función de que, si para la puntuación de las reseñas tiene de 0 a 49, sea “NO ACONSEJABLE”; de 50 a 75 sea “ESTÁNDAR”; y de 76 a 100 sea “TOP”."
   ]
  },
  {
   "cell_type": "code",
   "execution_count": 118,
   "id": "2649d801",
   "metadata": {},
   "outputs": [],
   "source": [
    "def clasificar_categoria(score):\n",
    "    if score <= 49:\n",
    "        return 'NO ACONSEJABLE'\n",
    "    elif 50 <= score <= 75:\n",
    "        return 'ESTÁNDAR'\n",
    "    else:\n",
    "        return 'TOP'\n",
    "\n",
    "\n",
    "df_.loc[:,'CATEGORÍA'] = df_['review_scores_rating'].apply(clasificar_categoria)\n"
   ]
  },
  {
   "cell_type": "code",
   "execution_count": 119,
   "id": "c761c2c3",
   "metadata": {},
   "outputs": [
    {
     "data": {
      "text/html": [
       "<div>\n",
       "<style scoped>\n",
       "    .dataframe tbody tr th:only-of-type {\n",
       "        vertical-align: middle;\n",
       "    }\n",
       "\n",
       "    .dataframe tbody tr th {\n",
       "        vertical-align: top;\n",
       "    }\n",
       "\n",
       "    .dataframe thead th {\n",
       "        text-align: right;\n",
       "    }\n",
       "</style>\n",
       "<table border=\"1\" class=\"dataframe\">\n",
       "  <thead>\n",
       "    <tr style=\"text-align: right;\">\n",
       "      <th></th>\n",
       "      <th>host_is_superhost</th>\n",
       "      <th>host_identity_verified</th>\n",
       "      <th>bathrooms</th>\n",
       "      <th>bedrooms</th>\n",
       "      <th>daily_price</th>\n",
       "      <th>security_deposit</th>\n",
       "      <th>minimum_nights</th>\n",
       "      <th>number_of_reviews</th>\n",
       "      <th>review_scores_rating</th>\n",
       "      <th>CATEGORÍA</th>\n",
       "    </tr>\n",
       "  </thead>\n",
       "  <tbody>\n",
       "    <tr>\n",
       "      <th>0</th>\n",
       "      <td>NO</td>\n",
       "      <td>NO VERIFICA</td>\n",
       "      <td>3</td>\n",
       "      <td>1</td>\n",
       "      <td>94</td>\n",
       "      <td>1</td>\n",
       "      <td>2</td>\n",
       "      <td>84</td>\n",
       "      <td>94</td>\n",
       "      <td>TOP</td>\n",
       "    </tr>\n",
       "    <tr>\n",
       "      <th>1</th>\n",
       "      <td>NO</td>\n",
       "      <td>VERIFICA</td>\n",
       "      <td>3</td>\n",
       "      <td>1</td>\n",
       "      <td>125</td>\n",
       "      <td>31</td>\n",
       "      <td>2</td>\n",
       "      <td>3</td>\n",
       "      <td>100</td>\n",
       "      <td>TOP</td>\n",
       "    </tr>\n",
       "    <tr>\n",
       "      <th>2</th>\n",
       "      <td>NO</td>\n",
       "      <td>NO VERIFICA</td>\n",
       "      <td>3</td>\n",
       "      <td>1</td>\n",
       "      <td>100</td>\n",
       "      <td>1</td>\n",
       "      <td>2</td>\n",
       "      <td>70</td>\n",
       "      <td>97</td>\n",
       "      <td>TOP</td>\n",
       "    </tr>\n",
       "  </tbody>\n",
       "</table>\n",
       "</div>"
      ],
      "text/plain": [
       "  host_is_superhost host_identity_verified  bathrooms  bedrooms  daily_price  \\\n",
       "0                NO            NO VERIFICA          3         1           94   \n",
       "1                NO               VERIFICA          3         1          125   \n",
       "2                NO            NO VERIFICA          3         1          100   \n",
       "\n",
       "   security_deposit  minimum_nights  number_of_reviews  review_scores_rating  \\\n",
       "0                 1               2                 84                    94   \n",
       "1                31               2                  3                   100   \n",
       "2                 1               2                 70                    97   \n",
       "\n",
       "  CATEGORÍA  \n",
       "0       TOP  \n",
       "1       TOP  \n",
       "2       TOP  "
      ]
     },
     "execution_count": 119,
     "metadata": {},
     "output_type": "execute_result"
    }
   ],
   "source": [
    "df_.head(3)"
   ]
  },
  {
   "cell_type": "code",
   "execution_count": 134,
   "id": "bbba8b5c",
   "metadata": {},
   "outputs": [
    {
     "data": {
      "text/plain": [
       "Text(0, 0.5, 'Frecuencia')"
      ]
     },
     "execution_count": 134,
     "metadata": {},
     "output_type": "execute_result"
    },
    {
     "data": {
      "image/png": "[encoded data removed]",
      "text/plain": [
       "<Figure size 640x480 with 1 Axes>"
      ]
     },
     "metadata": {},
     "output_type": "display_data"
    }
   ],
   "source": [
    "import matplotlib.pyplot as plt\n",
    "import seaborn as sns\n",
    "\n",
    "frecuencias = df_['CATEGORÍA'].value_counts()\n",
    "\n",
    "sns.barplot(x=frecuencias.index, y=frecuencias.values)\n",
    "plt.xlabel('Categoría')\n",
    "plt.ylabel('Frecuencia')"
   ]
  },
  {
   "cell_type": "markdown",
   "id": "8eb4a133",
   "metadata": {},
   "source": [
    "Obtener el histograma del precio por día."
   ]
  },
  {
   "cell_type": "code",
   "execution_count": 145,
   "id": "6a5d7006",
   "metadata": {},
   "outputs": [
    {
     "data": {
      "text/plain": [
       "Text(0, 0.5, 'frecuencia')"
      ]
     },
     "execution_count": 145,
     "metadata": {},
     "output_type": "execute_result"
    },
    {
     "data": {
      "image/png": "[encoded data removed]",
      "text/plain": [
       "<Figure size 640x480 with 1 Axes>"
      ]
     },
     "metadata": {},
     "output_type": "display_data"
    }
   ],
   "source": [
    "precio_por_dia = df_.daily_price\n",
    "\n",
    "sns.histplot(precio_por_dia, bins=100)\n",
    "plt.xlim(0,500)\n",
    "plt.xlabel('precio por dia')\n",
    "plt.ylabel('frecuencia')"
   ]
  },
  {
   "cell_type": "markdown",
   "id": "330a8358",
   "metadata": {},
   "source": [
    "Estudiar la relación entre los dormitorios y baños de forma gráfica."
   ]
  },
  {
   "cell_type": "code",
   "execution_count": 150,
   "id": "0c86ee3a",
   "metadata": {},
   "outputs": [
    {
     "data": {
      "text/plain": [
       "Text(0, 0.5, 'numero de baños')"
      ]
     },
     "execution_count": 150,
     "metadata": {},
     "output_type": "execute_result"
    },
    {
     "data": {
      "image/png": "[encoded data removed]",
      "text/plain": [
       "<Figure size 640x480 with 1 Axes>"
      ]
     },
     "metadata": {},
     "output_type": "display_data"
    }
   ],
   "source": [
    "dorms_baños = df_[['bedrooms', 'bathrooms']]\n",
    "sns.scatterplot(dorms_baños, x='bedrooms', y='bathrooms', color='green')\n",
    "plt.xlabel('numero de habitaciones')\n",
    "plt.ylabel('numero de baños')\n",
    "#parece haber una relacion positiva entre el numero de baños y el numero de dormitorios"
   ]
  },
  {
   "cell_type": "markdown",
   "id": "a091aaeb",
   "metadata": {},
   "source": [
    " Mostraremos un histograma del número de reseñas en función de si es un usuario verificado o no."
   ]
  },
  {
   "cell_type": "code",
   "execution_count": 154,
   "id": "d8fbbfc7",
   "metadata": {},
   "outputs": [
    {
     "data": {
      "image/png": "[encoded data removed]",
      "text/plain": [
       "<Figure size 640x480 with 1 Axes>"
      ]
     },
     "metadata": {},
     "output_type": "display_data"
    }
   ],
   "source": [
    "sns.histplot(df_, x='number_of_reviews', hue='host_identity_verified', bins=50, palette='viridis')\n",
    "\n",
    "# Configurar el título y etiquetas\n",
    "plt.title('Histograma del Número de Reseñas por Tipo de Usuario')\n",
    "plt.xlabel('Número de Reseñas')\n",
    "plt.ylabel('Frecuencia')\n",
    "\n",
    "# Mostrar el gráfico\n",
    "plt.show()"
   ]
  },
  {
   "cell_type": "code",
   "execution_count": 155,
   "id": "f5aefdc3",
   "metadata": {},
   "outputs": [
    {
     "data": {
      "image/png": "[encoded data removed]",
      "text/plain": [
       "<Figure size 1200x800 with 1 Axes>"
      ]
     },
     "metadata": {},
     "output_type": "display_data"
    }
   ],
   "source": [
    "plt.figure(figsize=(12, 8))\n",
    "sns.histplot(df_, x='security_deposit', hue='host_is_superhost', multiple='stack', bins=20, palette='viridis')\n",
    "\n",
    "plt.title('Histograma del Depósito de Seguridad por Categoría y Superhost')\n",
    "plt.xlabel('Cuantía del Depósito de Seguridad')\n",
    "plt.ylabel('Frecuencia')\n",
    "\n",
    "plt.legend(title='Superhost', labels=['No', 'Sí'])\n"
   ]
  }
 ],
 "metadata": {
  "kernelspec": {
   "display_name": "Python 3 (ipykernel)",
   "language": "python",
   "name": "python3"
  },
  "language_info": {
   "codemirror_mode": {
    "name": "ipython",
    "version": 3
   },
   "file_extension": ".py",
   "mimetype": "text/x-python",
   "name": "python",
   "nbconvert_exporter": "python",
   "pygments_lexer": "ipython3",
   "version": "3.11.5"
  }
 },
 "nbformat": 4,
 "nbformat_minor": 5
}
